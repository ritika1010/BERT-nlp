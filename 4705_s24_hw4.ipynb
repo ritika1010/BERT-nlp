{
 "cells": [
  {
   "cell_type": "markdown",
   "id": "6703077a",
   "metadata": {},
   "source": [
    "# COMS W4705 Spring 24\n",
    "## Homework 4 - Semantic Role Labelling with BERT\n",
    "\n",
    "The goal of this assignment is to train and evaluate a PropBank-style semantic role labeling (SRL) system. Following (Collobert et al. 2011) and others, we will treat this problem as a sequence-labeling task. For each input token, the system will predict a B-I-O tag, as illustrated in the following example: \n",
    "\n",
    "|The|judge|scheduled|to|preside|over|his|trial|was|removed|from|the|case|today|.|             \n",
    "|---|-----|---------|--|-------|----|---|-----|---|-------|----|---|----|-----|-|             \n",
    "|B-ARG1|I-ARG1|B-V|B-ARG2|I-ARG2|I-ARG2|I-ARG2|I-ARG2|O|O|O|O|O|O|O|\n",
    "|||schedule.01|||||||||||||\n",
    "\n",
    "Note that the same sentence may have multiple annotations for different predicates\n",
    "\n",
    "|The|judge|scheduled|to|preside|over|his|trial|was|removed|from|the|case|today|.|             \n",
    "|---|-----|---------|--|-------|----|---|-----|---|-------|----|---|----|-----|-|             \n",
    "|B-ARG1|I-ARG1|I-ARG1|I-ARG1|I-ARG1|I-ARG1|I-ARG1|I-ARG1|O|B-V|B-ARG2|I-ARG2|I-ARG2|B-ARGM-TMP|O|\n",
    "||||||||||remove.01||||||\n",
    "\n",
    "and not all predicates need to be verbs\n",
    "\n",
    "|The|judge|scheduled|to|preside|over|his|trial|was|removed|from|the|case|today|.|             \n",
    "|---|-----|---------|--|-------|----|---|-----|---|-------|----|---|----|-----|-|    \n",
    "|O|O|O|O|O|O|B-ARG1|B-V|O|O|O|O|O|O|O|\n",
    "||||||||try.02||||||||\n",
    "\n",
    "The SRL system will be implemented in [PyTorch](https://pytorch.org/). We will use BERT (in the implementation provided by the [Huggingface transformers](https://huggingface.co/docs/transformers/index) library) to compute contextualized token representations and a custom classification head to predict semantic roles. We will fine-tune the pretrained BERT model on the SRL task. \n"
   ]
  },
  {
   "cell_type": "markdown",
   "id": "ff12fe94",
   "metadata": {},
   "source": [
    "### Overview of the Approach\n",
    "\n",
    "The model we will train is pretty straightforward. Essentially, we will just encode the sentence with BERT, then take the contextualized embedding for each token and feed it into a classifier to predict the corresponding tag. \n",
    "\n",
    "Because we are only working on argument identification and labeling (not predicate identification), it is essentially that we tell the model where the predicate is. This can be accomplished in various ways. The approach we will choose here repurposes Bert's *segment embeddings*. \n",
    "\n",
    "Recall that BERT is trained on two input sentences, seperated by [SEP], and on a next-sentence-prediction objective (in addition to the masked LM objective). To help BERT comprehend which sentence a given token belongs to, the original BERT uses a segment embedding, using A for the first sentene, and B for the second sentence 2. \n",
    "Because we are labeling only a single sentence at a time, we can use the segment embeddings to indicate the predicate position instead: The predicate is labeled as segment B (1) and all other tokens will be labeled as segment A (0). \n",
    "\n",
    "<img src=\"https://github.com/daniel-bauer/4705-f23-hw5/blob/main/bert_srl_model.png?raw=true\" width=400px>"
   ]
  },
  {
   "cell_type": "markdown",
   "id": "68325e53",
   "metadata": {},
   "source": [
    "## Setup: GCP, Jupyter, PyTorch, GPU\n",
    "\n",
    "To make sure that PyTorch is available and can use the GPU,run the following cell which should return True. If it doesn't, make sure the GPU drivers and CUDA are installed correctly. \n",
    "\n",
    "GPU support is required for this assignment -- you will not be able to fine-tune BERT on a CPU. "
   ]
  },
  {
   "cell_type": "code",
   "execution_count": 1,
   "id": "aad94eef",
   "metadata": {},
   "outputs": [
    {
     "data": {
      "text/plain": [
       "True"
      ]
     },
     "execution_count": 1,
     "metadata": {},
     "output_type": "execute_result"
    }
   ],
   "source": [
    "import torch\n",
    "torch.cuda.is_available() "
   ]
  },
  {
   "cell_type": "markdown",
   "id": "3fe1c8ac",
   "metadata": {},
   "source": [
    "## Dataset: Ontonotes 5.0 English SRL annotations\n",
    "\n",
    "We will work with the English part of the [Ontonotes 5.0](https://catalog.ldc.upenn.edu/LDC2013T19) data. This is an extension of PropBank, using the same type of annotation. Ontonotes contains annotations other than predicate/argument structures, but we will use the PropBank style SRL annotations only. *Important*: This data set is provided to you for use in COMS 4705 only! Columbia is a subscriber to LDC and is allowed to use the data for educational purposes. However, you may not use the dataset in projects unrelated to Columbia teaching or research.\n",
    "\n",
    "If you haven't done so already, you can download the data here: \n"
   ]
  },
  {
   "cell_type": "code",
   "execution_count": 2,
   "id": "0c2f2645",
   "metadata": {},
   "outputs": [
    {
     "name": "stdout",
     "output_type": "stream",
     "text": [
      "--2024-04-23 13:32:26--  https://storage.googleapis.com/4705-bert-srl-data/ontonotes_srl.zip\n",
      "Resolving storage.googleapis.com (storage.googleapis.com)... 172.217.31.27, 142.251.130.27, 142.251.222.219, ...\n",
      "Connecting to storage.googleapis.com (storage.googleapis.com)|172.217.31.27|:443... connected.\n",
      "HTTP request sent, awaiting response... 200 OK\n",
      "Length: 12369688 (12M) [application/zip]\n",
      "Saving to: ‘ontonotes_srl.zip’\n",
      "\n",
      "ontonotes_srl.zip   100%[===================>]  11.80M  7.14MB/s    in 1.7s    \n",
      "\n",
      "2024-04-23 13:32:29 (7.14 MB/s) - ‘ontonotes_srl.zip’ saved [12369688/12369688]\n",
      "\n"
     ]
    }
   ],
   "source": [
    "! wget https://storage.googleapis.com/4705-bert-srl-data/ontonotes_srl.zip    "
   ]
  },
  {
   "cell_type": "code",
   "execution_count": 3,
   "id": "14aad58e",
   "metadata": {},
   "outputs": [
    {
     "name": "stdout",
     "output_type": "stream",
     "text": [
      "Archive:  ontonotes_srl.zip\n",
      "  inflating: propbank_dev.tsv        \n",
      "  inflating: propbank_test.tsv       \n",
      "  inflating: propbank_train.tsv      \n",
      "  inflating: role_list.txt           \n"
     ]
    }
   ],
   "source": [
    "! unzip ontonotes_srl.zip    "
   ]
  },
  {
   "cell_type": "markdown",
   "id": "8cae08a9",
   "metadata": {},
   "source": [
    "The data has been pre-processed in the following format. There are three files: \n",
    "\n",
    "`propbank_dev.tsv`\t`propbank_test.tsv`\t`propbank_train.tsv`\n",
    "\n",
    "Each of these files is in a tab-separated value format. A single predicate/argument structure annotation consists of four rows. For example \n",
    "\n",
    "```\n",
    "ontonotes/bc/cnn/00/cnn_0000.152.1\n",
    "The     judge   scheduled       to      preside over    his     trial   was     removed from    the     case    today   /.\n",
    "                schedule.01\n",
    "B-ARG1  I-ARG1  B-V     B-ARG2  I-ARG2  I-ARG2  I-ARG2  I-ARG2  O       O       O       O       O       O       O\n",
    "```\n",
    "\n",
    "* The first row is a unique identifier (1st annotation of the 152nd sentence in the file ontonotes/bc/cnn/00/cnn_0000).\n",
    "* The second row contains the tokens of the sentence (tab-separated). \n",
    "* The third row contains the probank frame name for the predicate (empty field for all other tokens). \n",
    "* The fourth row contains the B-I-O tag for each token. \n",
    "\n",
    "The file `rolelist.txt` contains a list of propbank BIO labels in the dataset (i.e. possible output tokens). This list has been filtered to contain only roles that appeared more than 1000 times in the training data. \n",
    "We will load this list and create mappings from numeric ids to BIO tags and back."
   ]
  },
  {
   "cell_type": "code",
   "execution_count": 93,
   "id": "dc4c027a",
   "metadata": {},
   "outputs": [],
   "source": [
    "role_to_id = {}\n",
    "with open(\"role_list.txt\",'r') as f:\n",
    "    role_list = [x.strip() for x in f.readlines()]\n",
    "    role_to_id = dict((role, index) for (index, role) in enumerate(role_list))\n",
    "    role_to_id['[PAD]'] = -100\n",
    "#     role_to_id['O'] = 0\n",
    "    \n",
    "    id_to_role = dict((index, role) for (role, index) in role_to_id.items())\n",
    "    "
   ]
  },
  {
   "cell_type": "markdown",
   "id": "f07cdf31",
   "metadata": {},
   "source": [
    "Note that we are also mapping the '[PAD]' token to the value -100. This allows the loss function to ignore these tokens during training."
   ]
  },
  {
   "cell_type": "code",
   "execution_count": 94,
   "id": "cdbc246f",
   "metadata": {},
   "outputs": [
    {
     "name": "stdout",
     "output_type": "stream",
     "text": [
      "Top 10 key-value pairs in role_to_id dictionary:\n",
      "[PAD]: -100\n",
      "[CLS]: 1\n",
      "[SEP]: 2\n",
      "[prd]: 3\n",
      "O: 4\n",
      "B-ARG0: 5\n",
      "B-ARG1: 6\n",
      "B-ARG1-DSP: 7\n",
      "B-ARG2: 8\n",
      "B-ARG3: 9\n",
      "B-ARG4: 10\n",
      "B-ARGM-ADJ: 11\n",
      "B-ARGM-ADV: 12\n",
      "B-ARGM-CAU: 13\n",
      "B-ARGM-DIR: 14\n",
      "B-ARGM-DIS: 15\n",
      "B-ARGM-EXT: 16\n",
      "B-ARGM-GOL: 17\n",
      "B-ARGM-LOC: 18\n",
      "B-ARGM-MNR: 19\n",
      "B-ARGM-MOD: 20\n",
      "B-ARGM-NEG: 21\n",
      "B-ARGM-PRD: 22\n",
      "B-ARGM-PRP: 23\n",
      "B-ARGM-PRR: 24\n",
      "B-ARGM-TMP: 25\n",
      "B-ARGM-CXN: 26\n",
      "B-ARGM-LVB: 27\n",
      "B-V: 28\n",
      "I-ARG0: 29\n",
      "I-ARG1: 30\n",
      "I-ARG1-DSP: 31\n",
      "I-ARG2: 32\n",
      "I-ARG3: 33\n",
      "I-ARG4: 34\n",
      "I-ARGM-ADJ: 35\n",
      "I-ARGM-ADV: 36\n",
      "I-ARGM-CAU: 37\n",
      "I-ARGM-DIR: 38\n",
      "I-ARGM-DIS: 39\n",
      "I-ARGM-EXT: 40\n",
      "I-ARGM-GOL: 41\n",
      "I-ARGM-LOC: 42\n",
      "I-ARGM-MNR: 43\n",
      "I-ARGM-MOD: 44\n",
      "I-ARGM-NEG: 45\n",
      "I-ARGM-PRD: 46\n",
      "I-ARGM-PRP: 47\n",
      "I-ARGM-PRR: 48\n",
      "I-ARGM-TMP: 49\n",
      "I-ARGM-CXN: 50\n",
      "I-ARGM-LVB: 51\n",
      "I-V: 52\n"
     ]
    }
   ],
   "source": [
    "# Printing the top 10 key-value pairs\n",
    "print(\"Top 10 key-value pairs in role_to_id dictionary:\")\n",
    "for key, value in list(role_to_id.items()):\n",
    "    print(f\"{key}: {value}\")"
   ]
  },
  {
   "cell_type": "markdown",
   "id": "88096be5",
   "metadata": {},
   "source": [
    "\n",
    "\n"
   ]
  },
  {
   "cell_type": "markdown",
   "id": "aae727bf",
   "metadata": {},
   "source": [
    "## Part 1 - Data Preparation\n",
    "\n",
    "Before you can build the SRL model, you first need to preprocess the data. \n",
    "\n",
    "\n",
    "### 1.1 - Tokenization \n",
    "\n",
    "One challenge is that the pre-trained BERT model uses subword (\"WordPiece\") tokenization, but the Ontonotes data does not. Fortunately Huggingface transformers provides a tokenizer. "
   ]
  },
  {
   "cell_type": "code",
   "execution_count": 421,
   "id": "8a2d7d03",
   "metadata": {},
   "outputs": [
    {
     "data": {
      "text/plain": [
       "['this',\n",
       " 'is',\n",
       " 'an',\n",
       " 'un',\n",
       " '##bel',\n",
       " '##ie',\n",
       " '##va',\n",
       " '##bly',\n",
       " 'boring',\n",
       " 'test',\n",
       " 'sentence',\n",
       " '.']"
      ]
     },
     "execution_count": 421,
     "metadata": {},
     "output_type": "execute_result"
    }
   ],
   "source": [
    "from transformers import BertTokenizerFast \n",
    "tokenizer = BertTokenizerFast.from_pretrained('bert-base-uncased', do_lower_case=True)\n",
    "tokenizer.tokenize(\"This is an unbelievably boring test sentence.\")"
   ]
  },
  {
   "cell_type": "markdown",
   "id": "ac1924bd",
   "metadata": {},
   "source": [
    "**TODO**: \n",
    "We need to be able to maintain the correct labels (B-I-O tags) for each of the subwords. \n",
    "Complete the following function that takes a list of tokens and a list of B-I-O labels of the same length as parameters, and returns a new token / label pair, as illustrated in the following example. \n",
    "\n",
    "\n",
    "```\n",
    ">>> tokenize_with_labels(\"the fancyful penguin devoured yummy fish .\".split(), \"B-ARG0 I-ARG0 I-ARG0 B-V B-ARG1 I-ARG1 O\".split(), tokenizer)\n",
    "(['the',\n",
    "  'fancy',\n",
    "  '##ful',\n",
    "  'penguin',\n",
    "  'dev',\n",
    "  '##oured',\n",
    "  'yu',\n",
    "  '##mmy',\n",
    "  'fish',\n",
    "  '.'],\n",
    " ['B-ARG0',\n",
    "  'I-ARG0',\n",
    "  'I-ARG0',\n",
    "  'I-ARG0',\n",
    "  'B-V',\n",
    "  'I-V',\n",
    "  'B-ARG1',\n",
    "  'I-ARG1',\n",
    "  'I-ARG1',\n",
    "  'O'])\n",
    "\n",
    "```\n",
    "\n",
    "To approach this problem, iterate through each word/label pair in the sentence. Call the tokenizer on the word. This may result in one or more tokens. Create the correct number of labels to match the number of tokens. Take care to not generate multiple B- tokens. \n",
    "\n",
    "\n",
    "This approach is a bit slower than tokenizing the entire sentence, but is necessary to produce proper input tokenization for the pre-trained BERT model, and the matching target labels. "
   ]
  },
  {
   "cell_type": "code",
   "execution_count": 422,
   "id": "8140fc39",
   "metadata": {},
   "outputs": [],
   "source": [
    "def tokenize_with_labels(sentence, text_labels, tokenizer):\n",
    "    \"\"\"\n",
    "    Word piece tokenization makes it difficult to match word labels\n",
    "    back up with individual word pieces. \n",
    "    \"\"\"\n",
    "\n",
    "    tokenized_sentence = []\n",
    "    labels = []\n",
    "    \n",
    "    for word, label in zip(sentence, text_labels):\n",
    "        word_tokens = tokenizer.tokenize(word)\n",
    "        \n",
    "        tokenized_sentence.extend(word_tokens)\n",
    "        \n",
    "        if len(word_tokens) > 1:\n",
    "            label_parts = label.split('-')\n",
    "            if label_parts[0] == 'B':\n",
    "                labels.extend([label] + ['I-' + '-'.join(label_parts[1:])] * (len(word_tokens) - 1))\n",
    "            elif label_parts[0] == 'I':\n",
    "                labels.extend(['I-' + '-'.join(label_parts[1:])] * len(word_tokens))\n",
    "            else:\n",
    "                labels.extend(['O'] * len(word_tokens))\n",
    "        else:\n",
    "            labels.append(label)\n",
    "\n",
    "    return tokenized_sentence, labels"
   ]
  },
  {
   "cell_type": "code",
   "execution_count": 423,
   "id": "f748d120",
   "metadata": {},
   "outputs": [
    {
     "data": {
      "text/plain": [
       "(['the',\n",
       "  'fancy',\n",
       "  '##ful',\n",
       "  'penguin',\n",
       "  'dev',\n",
       "  '##oured',\n",
       "  'yu',\n",
       "  '##mmy',\n",
       "  'fish',\n",
       "  '.'],\n",
       " ['B-ARG0',\n",
       "  'I-ARG0',\n",
       "  'I-ARG0',\n",
       "  'I-ARG0',\n",
       "  'B-V',\n",
       "  'I-V',\n",
       "  'B-ARG1',\n",
       "  'I-ARG1',\n",
       "  'I-ARG1',\n",
       "  'O'])"
      ]
     },
     "execution_count": 423,
     "metadata": {},
     "output_type": "execute_result"
    }
   ],
   "source": [
    "tokenize_with_labels(\"the fancyful penguin devoured yummy fish .\".split(), \"B-ARG0 I-ARG0 I-ARG0 B-V B-ARG1 I-ARG1 O\".split(), tokenizer)"
   ]
  },
  {
   "cell_type": "code",
   "execution_count": 424,
   "id": "3973c3af",
   "metadata": {},
   "outputs": [
    {
     "data": {
      "text/plain": [
       "(['we',\n",
       "  'respectful',\n",
       "  '##ly',\n",
       "  'invite',\n",
       "  'you',\n",
       "  'to',\n",
       "  'watch',\n",
       "  'a',\n",
       "  'special',\n",
       "  'edition',\n",
       "  'of',\n",
       "  'across',\n",
       "  'china',\n",
       "  '.'],\n",
       " ['B-ARG0',\n",
       "  'B-ARGM-MNR',\n",
       "  'I-ARGM-MNR',\n",
       "  'B-V',\n",
       "  'B-ARG1',\n",
       "  'B-ARG2',\n",
       "  'I-ARG2',\n",
       "  'I-ARG2',\n",
       "  'I-ARG2',\n",
       "  'I-ARG2',\n",
       "  'I-ARG2',\n",
       "  'I-ARG2',\n",
       "  'I-ARG2',\n",
       "  'O'])"
      ]
     },
     "execution_count": 424,
     "metadata": {},
     "output_type": "execute_result"
    }
   ],
   "source": [
    "tokenize_with_labels(\"We respectfully invite\tyou to watch a special edition of Across China .\".split(), \"B-ARG0\tB-ARGM-MNR\tB-V\tB-ARG1\tB-ARG2\tI-ARG2\tI-ARG2\tI-ARG2\tI-ARG2\tI-ARG2\tI-ARG2\tI-ARG2\tO\".split(), tokenizer)"
   ]
  },
  {
   "cell_type": "markdown",
   "id": "77bb9076",
   "metadata": {},
   "source": [
    "### 1.2 Loading the Dataset\n",
    "\n",
    "Next, we are creating a PyTorch [Dataset](https://pytorch.org/docs/stable/data.html#torch.utils.data.Dataset) class. This class acts as a contained for the training, development, and testing data in memory. You should already be familiar with Datasets and Dataloaders from homework 3. \n",
    "\n",
    "1.2.1 **TODO**: Write the \\_\\_init\\_\\_(self, filename) method that reads in the data from a data file (specified by the filename).\n",
    "\n",
    "For each annotation you start with  the tokens in the sentence, and the BIO tags. Then you need to create the following \n",
    "\n",
    "1. call the `tokenize_with_labels` function to tokenize the sentence.\n",
    "2. Add the (token, label) pair to the self.items list. \n",
    "\n",
    "1.2.2 **TODO**: Write the \\_\\_len\\_\\_(self) method that returns the total number of items. \n",
    "\n",
    "1.2.3 **TODO**: Write the \\_\\_getitem\\_\\_(self, k) method that returns a single item in a format BERT will understand. \n",
    "* We need to process the sentence by adding \"\\[CLS\\]\" as the first token and \"\\[SEP\\]\" as the last token. The need to pad the token sequence to 128 tokens using the \"\\[PAD\\]\" symbol. This needs to happen both for the inputs (sentence token sequence) and outputs (BIO tag sequence).\n",
    "* We need to create an *attention mask*, which is a sequence of 128 tokens indicating the actual input symbols (as a 1) and \\[PAD\\] symbols (as a 0).\n",
    "* We need to create a *predicate indicator* mask, which is a sequence of 128 tokens with at most one 1, in the position of the \"B-V\" tag. All other entries should be 0. The model will use this information to understand where the predicate is located. \n",
    "\n",
    "* Finally, we need to convert the token and tag sequence into numeric indices. For the tokens, this can be done using the `tokenizer.convert_tokens_to_ids` method. For the tags, use the `role_to_id` dictionary. \n",
    "Each sequence must be a pytorch tensor of shape (1,128). You can convert a list of integer values like this `torch.tensor(token_ids, dtype=torch.long)`.\n",
    "\n",
    "To keep everything organized, we will return a dictionary in the following format \n",
    "\n",
    "```\n",
    "{'ids': token_tensor,\n",
    " 'targets': tag_tensor,\n",
    " 'mask': attention_mask_tensor,\n",
    " 'pred': predicate_indicator_tensor}\n",
    "```\n",
    "\n",
    "\n",
    "(Hint: To debug these, read in the first annotation only / the first few annotations) \n"
   ]
  },
  {
   "cell_type": "code",
   "execution_count": 464,
   "id": "9f5bd32f",
   "metadata": {},
   "outputs": [],
   "source": [
    "from torch.utils.data import Dataset, DataLoader \n",
    "\n",
    "class SrlData(Dataset):\n",
    "    \n",
    "    def __init__(self, filename):\n",
    "\n",
    "        super(SrlData, self).__init__()\n",
    "        \n",
    "        self.max_len = 128 \n",
    "        \n",
    "        self.tokenizer = BertTokenizerFast.from_pretrained('bert-base-uncased', do_lower_case=True)        \n",
    "        \n",
    "        self.items = []\n",
    "        \n",
    "        with open(filename, 'r') as file:\n",
    "            lines = file.readlines()\n",
    "            num_lines = len(lines)\n",
    "            idx = 0\n",
    "            \n",
    "            while idx < num_lines:\n",
    "                identifier = lines[idx].strip()  \n",
    "                sentence = lines[idx + 1].strip().split()  \n",
    "                _ = lines[idx + 2] \n",
    "                labels = lines[idx + 3].strip().split()  \n",
    "                try:\n",
    "                    tokenized_sentence, new_labels = tokenize_with_labels(sentence, labels, self.tokenizer)\n",
    "                    self.items.append((tokenized_sentence, new_labels))\n",
    "                    \n",
    "                except ValueError as e:\n",
    "                    print(\"Error:\", e)\n",
    "                idx += 4\n",
    "                                                        \n",
    "    def __len__(self):\n",
    "        return len(self.items)\n",
    "    \n",
    "    def __getitem__(self, k):\n",
    "        tokenized_sentence, labels = self.items[k]\n",
    "        \n",
    "        \n",
    "        # Add [CLS] and [SEP] tokens\n",
    "        tokenized_sentence = [\"[CLS]\"] + tokenized_sentence + [\"[SEP]\"]\n",
    "        token_labels = [\"[CLS]\"] + labels + [\"[SEP]\"]\n",
    "        \n",
    "        # Check if the length exceeds max_len after adding special tokens\n",
    "        if len(tokenized_sentence) > self.max_len:\n",
    "#             print(\"original\")\n",
    "#             print(tokenized_sentence)\n",
    "#             print(labels)\n",
    "            tokenized_sentence = tokenized_sentence[:self.max_len - 1] + [\"[SEP]\"]  # Keep [SEP] at the end\n",
    "            token_labels = token_labels[:self.max_len - 1] + [\"[PAD]\"]  # Padding for labels\n",
    "#             print(\"Padding if len higher\")\n",
    "#             print(tokenized_sentence)\n",
    "#             print(token_labels)\n",
    "            \n",
    "        # Pad sequences to max_length\n",
    "        pad_length = self.max_len - len(tokenized_sentence)\n",
    "        tokenized_sentence += [\"[PAD]\"] * pad_length\n",
    "        token_labels += [\"[PAD]\"] * pad_length\n",
    "\n",
    "        token_ids = tokenizer.convert_tokens_to_ids(tokenized_sentence)\n",
    "        # Assuming token_labels is a list of role labels\n",
    "        label_ids = [role_to_id.get(label, role_to_id['O']) for label in token_labels]\n",
    "\n",
    "        attention_mask = [1 if token != \"[PAD]\" else 0 for token in tokenized_sentence]\n",
    "        predicate_indicator = [1 if label == \"B-V\" else 0 for label in token_labels]\n",
    "        \n",
    "        token_ids = torch.tensor(token_ids, dtype=torch.long).unsqueeze(0)\n",
    "        label_ids = torch.tensor(label_ids, dtype=torch.long).unsqueeze(0)\n",
    "        attention_mask = torch.tensor(attention_mask, dtype=torch.long).unsqueeze(0)\n",
    "        predicate_indicator = torch.tensor(predicate_indicator, dtype=torch.long).unsqueeze(0)\n",
    "\n",
    "        return {\n",
    "            'ids': token_ids,\n",
    "            'targets': label_ids,\n",
    "            'mask': attention_mask,\n",
    "            'pred': predicate_indicator\n",
    "        }\n",
    "        "
   ]
  },
  {
   "cell_type": "code",
   "execution_count": 465,
   "id": "75cc7ef8",
   "metadata": {},
   "outputs": [],
   "source": [
    "# Open the input file\n",
    "with open('propbank_train.tsv', 'r') as input_file:\n",
    "    # Read the first 10 lines\n",
    "    lines = input_file.readlines()[:8000]\n",
    "\n",
    "# Open the output file\n",
    "with open('output.tsv', 'w') as output_file:\n",
    "    # Write the lines to the output file\n",
    "    output_file.writelines(lines)"
   ]
  },
  {
   "cell_type": "code",
   "execution_count": 466,
   "id": "da0b476d",
   "metadata": {},
   "outputs": [],
   "source": [
    "# Reading the training data takes a while for the entire data because we preprocess all data offline\n",
    "data = SrlData(\"propbank_train.tsv\")"
   ]
  },
  {
   "cell_type": "code",
   "execution_count": 467,
   "id": "a02c71a7",
   "metadata": {},
   "outputs": [
    {
     "name": "stdout",
     "output_type": "stream",
     "text": [
      "Retrieved item:\n",
      "{'ids': tensor([[  101,  3061,  4206,  2006, 13843, 18003,  3137,  2003,  1996,  6104,\n",
      "          2000,  1996,  3634, 10435,  5805,  1012,   102,     0,     0,     0,\n",
      "             0,     0,     0,     0,     0,     0,     0,     0,     0,     0,\n",
      "             0,     0,     0,     0,     0,     0,     0,     0,     0,     0,\n",
      "             0,     0,     0,     0,     0,     0,     0,     0,     0,     0,\n",
      "             0,     0,     0,     0,     0,     0,     0,     0,     0,     0,\n",
      "             0,     0,     0,     0,     0,     0,     0,     0,     0,     0,\n",
      "             0,     0,     0,     0,     0,     0,     0,     0,     0,     0,\n",
      "             0,     0,     0,     0,     0,     0,     0,     0,     0,     0,\n",
      "             0,     0,     0,     0,     0,     0,     0,     0,     0,     0,\n",
      "             0,     0,     0,     0,     0,     0,     0,     0,     0,     0,\n",
      "             0,     0,     0,     0,     0,     0,     0,     0,     0,     0,\n",
      "             0,     0,     0,     0,     0,     0,     0,     0]]), 'targets': tensor([[   1,   28,   12,   18,   42,   42,   42,    4,    4,    4,    4,    4,\n",
      "            4,    4,    4,    4,    2, -100, -100, -100, -100, -100, -100, -100,\n",
      "         -100, -100, -100, -100, -100, -100, -100, -100, -100, -100, -100, -100,\n",
      "         -100, -100, -100, -100, -100, -100, -100, -100, -100, -100, -100, -100,\n",
      "         -100, -100, -100, -100, -100, -100, -100, -100, -100, -100, -100, -100,\n",
      "         -100, -100, -100, -100, -100, -100, -100, -100, -100, -100, -100, -100,\n",
      "         -100, -100, -100, -100, -100, -100, -100, -100, -100, -100, -100, -100,\n",
      "         -100, -100, -100, -100, -100, -100, -100, -100, -100, -100, -100, -100,\n",
      "         -100, -100, -100, -100, -100, -100, -100, -100, -100, -100, -100, -100,\n",
      "         -100, -100, -100, -100, -100, -100, -100, -100, -100, -100, -100, -100,\n",
      "         -100, -100, -100, -100, -100, -100, -100, -100]]), 'mask': tensor([[1, 1, 1, 1, 1, 1, 1, 1, 1, 1, 1, 1, 1, 1, 1, 1, 1, 0, 0, 0, 0, 0, 0, 0,\n",
      "         0, 0, 0, 0, 0, 0, 0, 0, 0, 0, 0, 0, 0, 0, 0, 0, 0, 0, 0, 0, 0, 0, 0, 0,\n",
      "         0, 0, 0, 0, 0, 0, 0, 0, 0, 0, 0, 0, 0, 0, 0, 0, 0, 0, 0, 0, 0, 0, 0, 0,\n",
      "         0, 0, 0, 0, 0, 0, 0, 0, 0, 0, 0, 0, 0, 0, 0, 0, 0, 0, 0, 0, 0, 0, 0, 0,\n",
      "         0, 0, 0, 0, 0, 0, 0, 0, 0, 0, 0, 0, 0, 0, 0, 0, 0, 0, 0, 0, 0, 0, 0, 0,\n",
      "         0, 0, 0, 0, 0, 0, 0, 0]]), 'pred': tensor([[0, 1, 0, 0, 0, 0, 0, 0, 0, 0, 0, 0, 0, 0, 0, 0, 0, 0, 0, 0, 0, 0, 0, 0,\n",
      "         0, 0, 0, 0, 0, 0, 0, 0, 0, 0, 0, 0, 0, 0, 0, 0, 0, 0, 0, 0, 0, 0, 0, 0,\n",
      "         0, 0, 0, 0, 0, 0, 0, 0, 0, 0, 0, 0, 0, 0, 0, 0, 0, 0, 0, 0, 0, 0, 0, 0,\n",
      "         0, 0, 0, 0, 0, 0, 0, 0, 0, 0, 0, 0, 0, 0, 0, 0, 0, 0, 0, 0, 0, 0, 0, 0,\n",
      "         0, 0, 0, 0, 0, 0, 0, 0, 0, 0, 0, 0, 0, 0, 0, 0, 0, 0, 0, 0, 0, 0, 0, 0,\n",
      "         0, 0, 0, 0, 0, 0, 0, 0]])}\n"
     ]
    }
   ],
   "source": [
    "idx = 2  # Choose the index of the item you want to retrieve\n",
    "item = data[idx]\n",
    "\n",
    "# Print the retrieved item\n",
    "print(\"Retrieved item:\")\n",
    "print(item)"
   ]
  },
  {
   "cell_type": "markdown",
   "id": "0730aff9",
   "metadata": {},
   "source": [
    "## 2. Model Definition"
   ]
  },
  {
   "cell_type": "code",
   "execution_count": 468,
   "id": "cb11f9c0",
   "metadata": {},
   "outputs": [],
   "source": [
    "from torch.nn import Module, Linear, CrossEntropyLoss\n",
    "from transformers import BertModel"
   ]
  },
  {
   "cell_type": "markdown",
   "id": "da684eff",
   "metadata": {},
   "source": [
    "We will define the pyTorch model as a subclass of the [torch.nn.Module](https://pytorch.org/docs/stable/generated/torch.nn.Module.html) class. The code for the model is provided for you. It may help to take a look at the documentation to remind you of how Module works. Take a look at how the huggingface BERT model simply becomes another sub-module. "
   ]
  },
  {
   "cell_type": "code",
   "execution_count": 469,
   "id": "37515695",
   "metadata": {},
   "outputs": [],
   "source": [
    "class SrlModel(Module):\n",
    "    \n",
    "    def __init__(self):\n",
    "        \n",
    "        super(SrlModel, self).__init__()\n",
    "        \n",
    "        self.encoder = BertModel.from_pretrained(\"bert-base-uncased\")\n",
    "    \n",
    "        # The following two lines would freeze the BERT parameters and allow us to train the classifier by itself.\n",
    "        # We are fine-tuning the model, so you can leave this commented out!\n",
    "        # for param in self.encoder.parameters():\n",
    "        #    param.requires_grad = False\n",
    "        \n",
    "        # The linear classifier head, see model figure in the introduction. \n",
    "        self.classifier = Linear(768, len(role_to_id))\n",
    "                \n",
    "        \n",
    "    def forward(self, input_ids, attn_mask, pred_indicator):\n",
    "    \n",
    "        # This defines the flow of data through the model \n",
    "    \n",
    "        # Note the use of the \"token type ids\" which represents the segment encoding explained in the introduction. \n",
    "        # In our segment encoding, 1 indicates the predicate, and 0 indicates everything else. \n",
    "        bert_output =  self.encoder(input_ids=input_ids, attention_mask=attn_mask, token_type_ids=pred_indicator)\n",
    "\n",
    "        enc_tokens = bert_output[0] # the result of encoding the input with BERT\n",
    "        logits = self.classifier(enc_tokens) #feed into the classification layer to produce scores for each tag.\n",
    "        \n",
    "        # Note that we are only interested in the argmax for each token, so we do not have to normalize \n",
    "        # to a probability distribution using softmax. The CrossEntropyLoss loss function takes this into account.\n",
    "        # It essentially computes the softmax first and then computes the negative log-likelihood for the target classes. \n",
    "        return logits        "
   ]
  },
  {
   "cell_type": "code",
   "execution_count": 470,
   "id": "ba23ec3f",
   "metadata": {},
   "outputs": [
    {
     "name": "stderr",
     "output_type": "stream",
     "text": [
      "Some weights of the model checkpoint at bert-base-uncased were not used when initializing BertModel: ['cls.predictions.transform.dense.weight', 'cls.predictions.transform.LayerNorm.bias', 'cls.predictions.transform.LayerNorm.weight', 'cls.predictions.transform.dense.bias', 'cls.seq_relationship.bias', 'cls.seq_relationship.weight', 'cls.predictions.bias']\n",
      "- This IS expected if you are initializing BertModel from the checkpoint of a model trained on another task or with another architecture (e.g. initializing a BertForSequenceClassification model from a BertForPreTraining model).\n",
      "- This IS NOT expected if you are initializing BertModel from the checkpoint of a model that you expect to be exactly identical (initializing a BertForSequenceClassification model from a BertForSequenceClassification model).\n"
     ]
    }
   ],
   "source": [
    "model = SrlModel().to('cuda') # create new model and store weights in GPU memory"
   ]
  },
  {
   "cell_type": "markdown",
   "id": "9103d32e",
   "metadata": {},
   "source": [
    "Now we are ready to try running the model with just a single input example to check if it is working correctly. Clearly it has not been trained, so the output is not what we expect. But we can see what the loss looks like for an initial sanity check. \n",
    "\n",
    "**TODO**: \n",
    "* Take a single data item from the dev set, as provided by your Dataset class defined above. Obtain the input token ids, attention mask, predicate indicator mask, and target labels. \n",
    "* Run the model on the ids, attention mask, and predicate mask like this: "
   ]
  },
  {
   "cell_type": "code",
   "execution_count": 471,
   "id": "f1805480",
   "metadata": {},
   "outputs": [
    {
     "name": "stdout",
     "output_type": "stream",
     "text": [
      "Shape of outputs: torch.Size([1, 128, 53])\n"
     ]
    }
   ],
   "source": [
    "# pick an item from the dataset. Then run \n",
    "idx = 0\n",
    "data_item = data[idx]\n",
    "\n",
    "ids = data_item['ids']\n",
    "mask = data_item['mask']\n",
    "pred = data_item['pred']\n",
    "target_labels = data_item['targets']\n",
    "\n",
    "ids = ids.to('cuda')\n",
    "mask = mask.to('cuda')\n",
    "pred = pred.to('cuda')\n",
    "\n",
    "outputs = model(ids, mask, pred)\n",
    "print(\"Shape of outputs:\", outputs.shape)\n"
   ]
  },
  {
   "cell_type": "markdown",
   "id": "cd7fd38b",
   "metadata": {},
   "source": [
    "**TODO**: \n",
    "Compute the loss on this one item only.\n",
    "The initial loss should be close to -ln(1/num_labels)\n",
    "\n",
    "Without training we would assume that all labels for each token (including the target label) are equally likely, so the negative log probability for the targets should be approximately $$-\\ln(\\frac{1}{\\text{num_labels}}).$$ This is what the loss function should return on a single example. This is a good sanity check to run for any multi-class prediction problem. "
   ]
  },
  {
   "cell_type": "code",
   "execution_count": 472,
   "id": "1a5f881d",
   "metadata": {},
   "outputs": [
    {
     "data": {
      "text/plain": [
       "3.970291913552122"
      ]
     },
     "execution_count": 472,
     "metadata": {},
     "output_type": "execute_result"
    }
   ],
   "source": [
    "import math\n",
    "-math.log(1 / len(role_to_id), math.e)"
   ]
  },
  {
   "cell_type": "code",
   "execution_count": 473,
   "id": "1a124d4f",
   "metadata": {},
   "outputs": [
    {
     "name": "stdout",
     "output_type": "stream",
     "text": [
      "Computed Loss: 4.090612888336182\n"
     ]
    }
   ],
   "source": [
    "loss_function = CrossEntropyLoss(ignore_index = -100, reduction='mean')\n",
    "\n",
    "# complete this. Note that you still have to provide a (batch_size, input_pos) \n",
    "# tensor for each parameter, where batch_size =1\n",
    "\n",
    "# outputs = model(ids, mask, pred) \n",
    "# loss = loss_function(...)\n",
    "# loss.item()   #this should be approximately the score from the previous cell\n",
    "\n",
    "outputs_reshaped = outputs.view(-1, outputs.size(-1))\n",
    "target_labels = target_labels.view(-1)\n",
    "target_labels = target_labels.to(outputs_reshaped.device)\n",
    "\n",
    "# Compute the loss\n",
    "loss = loss_function(outputs_reshaped, target_labels)\n",
    "\n",
    "# Print the loss\n",
    "print(\"Computed Loss:\", loss.item())"
   ]
  },
  {
   "cell_type": "markdown",
   "id": "669a1037",
   "metadata": {},
   "source": [
    "**TODO**: At this point you should also obtain the actual predictions by taking the argmax over each position.\n",
    "The result should look something like this (values will differ).\n",
    "\n",
    "```\n",
    "tensor([[ 1,  4,  4,  4,  4,  4,  5, 29, 29, 29,  4, 28,  6, 32, 32, 32, 32, 32,\n",
    "         32, 32, 30, 30, 32, 30, 32,  4, 32, 32, 30,  4, 49,  4, 49, 32, 30,  4,\n",
    "         32,  4, 32, 32,  4,  2,  4,  4, 32,  4, 32, 32, 32, 32, 30, 32, 32, 30,\n",
    "         32,  4,  4, 49,  4,  4,  4,  4,  4,  4,  4,  4,  4,  4,  6,  6, 32, 32,\n",
    "         30, 32, 32, 32, 32, 32, 30, 30, 30, 32, 30, 49, 49, 32, 32, 30,  4,  4,\n",
    "          4,  4, 29,  4,  4,  4,  4,  4,  4, 32,  4,  4,  4, 32,  4, 30,  4, 32,\n",
    "         30,  4, 32,  4,  4,  4,  4,  4, 32,  4,  4,  4,  4,  4,  4,  4,  4,  4,\n",
    "          4,  4]], device='cuda:0')\n",
    "```\n",
    "\n",
    "Then use the id_to_role dictionary to decode to actual tokens. \n",
    "\n",
    "```\n",
    "['[CLS]', 'O', 'O', 'O', 'O', 'O', 'B-ARG0', 'I-ARG0', 'I-ARG0', 'I-ARG0', 'O', 'B-V', 'B-ARG1', 'I-ARG2', 'I-ARG2', 'I-ARG2', 'I-ARG2', 'I-ARG2', 'I-ARG2', 'I-ARG2', 'I-ARG1', 'I-ARG1', 'I-ARG2', 'I-ARG1', 'I-ARG2', 'O', 'I-ARG2', 'I-ARG2', 'I-ARG1', 'O', 'I-ARGM-TMP', 'O', 'I-ARGM-TMP', 'I-ARG2', 'I-ARG1', 'O', 'I-ARG2', 'O', 'I-ARG2', 'I-ARG2', 'O', '[SEP]', 'O', 'O', 'I-ARG2', 'O', 'I-ARG2', 'I-ARG2', 'I-ARG2', 'I-ARG2', 'I-ARG1', 'I-ARG2', 'I-ARG2', 'I-ARG1', 'I-ARG2', 'O', 'O', 'I-ARGM-TMP', 'O', 'O', 'O', 'O', 'O', 'O', 'O', 'O', 'O', 'O', 'B-ARG1', 'B-ARG1', 'I-ARG2', 'I-ARG2', 'I-ARG1', 'I-ARG2', 'I-ARG2', 'I-ARG2', 'I-ARG2', 'I-ARG2', 'I-ARG1', 'I-ARG1', 'I-ARG1', 'I-ARG2', 'I-ARG1', 'I-ARGM-TMP', 'I-ARGM-TMP', 'I-ARG2', 'I-ARG2', 'I-ARG1', 'O', 'O', 'O', 'O', 'I-ARG0', 'O', 'O', 'O', 'O', 'O', 'O', 'I-ARG2', 'O', 'O', 'O', 'I-ARG2', 'O', 'I-ARG1', 'O', 'I-ARG2', 'I-ARG1', 'O', 'I-ARG2', 'O', 'O', 'O', 'O', 'O', 'I-ARG2', 'O', 'O', 'O', 'O', 'O', 'O', 'O', 'O', 'O', 'O', 'O']\n",
    "```\n",
    "\n",
    "For now, just make sure you understand how to do this for a single example. Later, you will write a more formal function to do this once we have trained the model. "
   ]
  },
  {
   "cell_type": "code",
   "execution_count": 474,
   "id": "69c2dcc0",
   "metadata": {},
   "outputs": [
    {
     "name": "stdout",
     "output_type": "stream",
     "text": [
      "Shape of outputs: torch.Size([1, 128, 53])\n",
      "tensor([[52, 38, 38, 52, 52, 45, 50, 50,  1,  1, 50, 50, 12, 12, 38, 38, 50, 50,\n",
      "         50, 50, 50, 50, 50, 50, 50, 50, 33, 50, 45, 50, 45, 50, 50, 50,  5, 50,\n",
      "          1, 11, 11, 25, 23, 23, 25, 50, 50, 50, 50, 50, 50, 50, 50, 50, 50, 50,\n",
      "         26, 50, 23, 23, 50, 50, 45, 50,  5, 50, 34, 34, 25, 23, 23, 35, 50, 50,\n",
      "         50, 50,  4, 50, 20, 50, 50,  4, 50, 50, 50, 45, 29, 50, 33, 45, 45, 45,\n",
      "         50,  5, 50, 11, 34, 25, 23, 23, 50, 50, 50, 50, 50, 50,  4, 50, 50, 50,\n",
      "          4, 35, 50, 50, 50, 33, 50, 26, 20, 33, 50, 20,  5, 50, 35, 35, 29,  4,\n",
      "         25, 50]], device='cuda:0')\n",
      "['I-V', 'I-ARGM-DIR', 'I-ARGM-DIR', 'I-V', 'I-V', 'I-ARGM-NEG', 'I-ARGM-CXN', 'I-ARGM-CXN', '[CLS]', '[CLS]', 'I-ARGM-CXN', 'I-ARGM-CXN', 'B-ARGM-ADV', 'B-ARGM-ADV', 'I-ARGM-DIR', 'I-ARGM-DIR', 'I-ARGM-CXN', 'I-ARGM-CXN', 'I-ARGM-CXN', 'I-ARGM-CXN', 'I-ARGM-CXN', 'I-ARGM-CXN', 'I-ARGM-CXN', 'I-ARGM-CXN', 'I-ARGM-CXN', 'I-ARGM-CXN', 'I-ARG3', 'I-ARGM-CXN', 'I-ARGM-NEG', 'I-ARGM-CXN', 'I-ARGM-NEG', 'I-ARGM-CXN', 'I-ARGM-CXN', 'I-ARGM-CXN', 'B-ARG0', 'I-ARGM-CXN', '[CLS]', 'B-ARGM-ADJ', 'B-ARGM-ADJ', 'B-ARGM-TMP', 'B-ARGM-PRP', 'B-ARGM-PRP', 'B-ARGM-TMP', 'I-ARGM-CXN', 'I-ARGM-CXN', 'I-ARGM-CXN', 'I-ARGM-CXN', 'I-ARGM-CXN', 'I-ARGM-CXN', 'I-ARGM-CXN', 'I-ARGM-CXN', 'I-ARGM-CXN', 'I-ARGM-CXN', 'I-ARGM-CXN', 'B-ARGM-CXN', 'I-ARGM-CXN', 'B-ARGM-PRP', 'B-ARGM-PRP', 'I-ARGM-CXN', 'I-ARGM-CXN', 'I-ARGM-NEG', 'I-ARGM-CXN', 'B-ARG0', 'I-ARGM-CXN', 'I-ARG4', 'I-ARG4', 'B-ARGM-TMP', 'B-ARGM-PRP', 'B-ARGM-PRP', 'I-ARGM-ADJ', 'I-ARGM-CXN', 'I-ARGM-CXN', 'I-ARGM-CXN', 'I-ARGM-CXN', 'O', 'I-ARGM-CXN', 'B-ARGM-MOD', 'I-ARGM-CXN', 'I-ARGM-CXN', 'O', 'I-ARGM-CXN', 'I-ARGM-CXN', 'I-ARGM-CXN', 'I-ARGM-NEG', 'I-ARG0', 'I-ARGM-CXN', 'I-ARG3', 'I-ARGM-NEG', 'I-ARGM-NEG', 'I-ARGM-NEG', 'I-ARGM-CXN', 'B-ARG0', 'I-ARGM-CXN', 'B-ARGM-ADJ', 'I-ARG4', 'B-ARGM-TMP', 'B-ARGM-PRP', 'B-ARGM-PRP', 'I-ARGM-CXN', 'I-ARGM-CXN', 'I-ARGM-CXN', 'I-ARGM-CXN', 'I-ARGM-CXN', 'I-ARGM-CXN', 'O', 'I-ARGM-CXN', 'I-ARGM-CXN', 'I-ARGM-CXN', 'O', 'I-ARGM-ADJ', 'I-ARGM-CXN', 'I-ARGM-CXN', 'I-ARGM-CXN', 'I-ARG3', 'I-ARGM-CXN', 'B-ARGM-CXN', 'B-ARGM-MOD', 'I-ARG3', 'I-ARGM-CXN', 'B-ARGM-MOD', 'B-ARG0', 'I-ARGM-CXN', 'I-ARGM-ADJ', 'I-ARGM-ADJ', 'I-ARG0', 'O', 'B-ARGM-TMP', 'I-ARGM-CXN']\n"
     ]
    }
   ],
   "source": [
    "# Use torch.argmax() to find the index of the maximum value along the predicted logits\n",
    "print(\"Shape of outputs:\", outputs.shape)\n",
    "\n",
    "predicted_indices = torch.argmax(outputs, dim=2)\n",
    "\n",
    "# Print the predicted indices\n",
    "print(predicted_indices)\n",
    "\n",
    "# Convert predicted indices to role labels using id_to_role dictionary\n",
    "predicted_labels = [id_to_role.get(int(idx),id_to_role[4] ) for idx in predicted_indices.squeeze()]\n",
    "\n",
    "# Print the predicted labels\n",
    "print(predicted_labels)"
   ]
  },
  {
   "cell_type": "markdown",
   "id": "20d52991",
   "metadata": {},
   "source": [
    "## 3. Training loop"
   ]
  },
  {
   "cell_type": "markdown",
   "id": "edba250d",
   "metadata": {},
   "source": [
    "pytorch provides a DataLoader class that can be wrapped around a Dataset to easily use the dataset for training. The DataLoader allows us to easily adjust the batch size and shuffle the data. "
   ]
  },
  {
   "cell_type": "code",
   "execution_count": 475,
   "id": "2ecd7448",
   "metadata": {},
   "outputs": [],
   "source": [
    "from torch.utils.data import DataLoader\n",
    "loader = DataLoader(data, batch_size = 32, shuffle = True)"
   ]
  },
  {
   "cell_type": "markdown",
   "id": "e7496c62",
   "metadata": {},
   "source": [
    "The following cell contains the main training loop. The code should work as written and report the loss after each batch,\n",
    "cumulative average loss after each 100 batches, and print out the final average loss after the epoch. \n",
    "\n",
    "**TODO**: Modify the training loop belowso that it also computes the accuracy for each batch and reports the \n",
    "average accuracy after the epoch. \n",
    "The accuracy is the number of correctly predicted token labels out of the number of total predictions. \n",
    "Make sure you exclude [PAD] tokens, i.e. tokens for which the target label is -100. It's okay to include [CLS] and [SEP] in the accuracy calculation. "
   ]
  },
  {
   "cell_type": "code",
   "execution_count": 476,
   "id": "7a7abad9",
   "metadata": {
    "scrolled": true
   },
   "outputs": [],
   "source": [
    "loss_function = CrossEntropyLoss(ignore_index = -100, reduction='mean')\n",
    "\n",
    "LEARNING_RATE = 1e-05\n",
    "optimizer = torch.optim.AdamW(params=model.parameters(), lr=LEARNING_RATE)\n",
    "\n",
    "device = 'cuda'\n",
    "\n",
    "def train():\n",
    "    \"\"\"\n",
    "    Train the model for one epoch.\n",
    "    \"\"\"\n",
    "    tr_loss = 0 \n",
    "    nb_tr_examples, nb_tr_steps = 0, 0\n",
    "    tr_preds, tr_labels = [], []\n",
    "    tr_correct = 0\n",
    "    total_tokens = 0\n",
    "    # put model in training mode\n",
    "    model.train()\n",
    "    \n",
    "    for idx, batch in enumerate(loader):\n",
    "        \n",
    "        # Get the encoded data for this batch and push it to the GPU\n",
    "        ids = batch['ids'].squeeze(1).to(device, dtype=torch.long)\n",
    "        mask = batch['mask'].squeeze(1).to(device, dtype=torch.long)\n",
    "        pred_mask = batch['pred'].squeeze(1).to(device, dtype=torch.long)\n",
    "        targets = batch['targets'].squeeze(1).to(device, dtype=torch.long)\n",
    "        \n",
    "        # Run the forward pass of the model\n",
    "        logits = model(input_ids=ids, attn_mask=mask, pred_indicator=pred_mask)        \n",
    "        loss = loss_function(logits.transpose(2,1), targets) \n",
    "        tr_loss += loss.item()\n",
    "#         print(\"Batch loss: \", loss.item()) # can comment out if too verbose.\n",
    "        \n",
    "        nb_tr_steps += 1\n",
    "        nb_tr_examples += targets.size(0)\n",
    "        \n",
    "        if idx % 100==0:\n",
    "            #torch.cuda.empty_cache() # can help if you run into memory issues\n",
    "            curr_avg_loss = tr_loss/nb_tr_steps\n",
    "            print(f\"Current average loss: {curr_avg_loss}\")\n",
    "                   \n",
    "        # Compute accuracy for this batch\n",
    "        matching = torch.sum(torch.argmax(logits,dim=2) == targets)       \n",
    "        predictions = torch.sum(torch.where(targets==-100,0,1))\n",
    "        tr_correct += matching.item()\n",
    "        total_tokens += predictions.item()\n",
    "                \n",
    "        # Run the backward pass to update parameters\n",
    "        optimizer.zero_grad()\n",
    "        loss.backward()\n",
    "        optimizer.step()\n",
    "    epoch_accuracy = tr_correct/total_tokens\n",
    "    epoch_loss = tr_loss / nb_tr_steps\n",
    "    print(f\"Training loss epoch: {epoch_loss}\")\n",
    "    print(f\"Training accuracy : {epoch_accuracy}\")"
   ]
  },
  {
   "cell_type": "markdown",
   "id": "890d12b0",
   "metadata": {},
   "source": [
    "Now let's train the model for one epoch. This will take a while (up to a few hours). "
   ]
  },
  {
   "cell_type": "code",
   "execution_count": 477,
   "id": "bef88882",
   "metadata": {},
   "outputs": [
    {
     "name": "stdout",
     "output_type": "stream",
     "text": [
      "Current average loss: 4.0110626220703125\n",
      "Current average loss: 2.145240839165036\n",
      "Current average loss: 1.7726128555055876\n",
      "Current average loss: 1.5824990716091423\n",
      "Current average loss: 1.4613406054694158\n",
      "Current average loss: 1.3744974625324775\n",
      "Current average loss: 1.3072105344639047\n",
      "Current average loss: 1.2511726419697815\n",
      "Current average loss: 1.2009285497159399\n",
      "Current average loss: 1.1553152764213999\n",
      "Current average loss: 1.1138433446655502\n",
      "Current average loss: 1.07407389512179\n",
      "Current average loss: 1.0377615558962143\n",
      "Current average loss: 1.005381319932439\n",
      "Current average loss: 0.9757804775944273\n",
      "Current average loss: 0.9464494012380583\n",
      "Current average loss: 0.9203385586369268\n",
      "Current average loss: 0.8967349390504221\n",
      "Current average loss: 0.8742173810027692\n",
      "Current average loss: 0.8534381507667098\n",
      "Current average loss: 0.8346365096121058\n",
      "Current average loss: 0.8153468017235419\n",
      "Current average loss: 0.7992839364911253\n",
      "Current average loss: 0.7831220185624574\n",
      "Current average loss: 0.7671115357321732\n",
      "Current average loss: 0.7530204374961308\n",
      "Current average loss: 0.739244432689501\n",
      "Current average loss: 0.7264519496422616\n",
      "Current average loss: 0.7142097018938411\n",
      "Current average loss: 0.7025883549330605\n",
      "Current average loss: 0.6912614852934827\n",
      "Current average loss: 0.6799381865739285\n",
      "Current average loss: 0.6706856878166533\n",
      "Current average loss: 0.6610231310901082\n",
      "Current average loss: 0.6516944660649899\n",
      "Current average loss: 0.6428439399385514\n",
      "Current average loss: 0.6345447820384481\n",
      "Current average loss: 0.6263829213027309\n",
      "Current average loss: 0.6186420064193109\n",
      "Current average loss: 0.6108499051221393\n",
      "Current average loss: 0.6038830467024704\n",
      "Current average loss: 0.5968412796979676\n",
      "Current average loss: 0.5898418994325594\n",
      "Current average loss: 0.5836018151604722\n",
      "Current average loss: 0.5772266513656362\n",
      "Current average loss: 0.571090507380858\n",
      "Current average loss: 0.5653261769448796\n",
      "Current average loss: 0.5599163172188477\n",
      "Current average loss: 0.5547027193961156\n",
      "Current average loss: 0.5495009504287517\n",
      "Current average loss: 0.5443905306828425\n",
      "Current average loss: 0.5396850558092398\n",
      "Current average loss: 0.534657606139845\n",
      "Current average loss: 0.5303143004503279\n",
      "Current average loss: 0.5257970701211294\n",
      "Current average loss: 0.5214469115791743\n",
      "Current average loss: 0.5175199235518944\n",
      "Current average loss: 0.5132290243584949\n",
      "Current average loss: 0.5092508620952577\n",
      "Current average loss: 0.5053321335150961\n",
      "Current average loss: 0.5015704488840188\n",
      "Current average loss: 0.4980999714911834\n",
      "Current average loss: 0.4942718403649088\n",
      "Current average loss: 0.4908012270967632\n",
      "Current average loss: 0.48743944881675094\n",
      "Current average loss: 0.48412635693906214\n",
      "Current average loss: 0.4809400879412126\n",
      "Current average loss: 0.47800938737599674\n",
      "Current average loss: 0.47503635587236176\n",
      "Current average loss: 0.47185599524622257\n",
      "Current average loss: 0.46886314292913367\n",
      "Current average loss: 0.4658811465293954\n",
      "Current average loss: 0.4631518591192758\n",
      "Current average loss: 0.46019418726917194\n",
      "Current average loss: 0.4577474989527513\n",
      "Current average loss: 0.4552190519870321\n",
      "Current average loss: 0.4526457388192678\n",
      "Current average loss: 0.4501475149647336\n",
      "Current average loss: 0.44754715524198396\n",
      "Current average loss: 0.4451094452278054\n",
      "Current average loss: 0.4427319534384613\n",
      "Current average loss: 0.4402422963369924\n",
      "Current average loss: 0.43797197859562137\n",
      "Current average loss: 0.43569961356629866\n",
      "Current average loss: 0.43343987188006766\n",
      "Current average loss: 0.4313722259340153\n",
      "Current average loss: 0.4293488260540917\n",
      "Current average loss: 0.4273324328564718\n",
      "Current average loss: 0.42530781286993485\n",
      "Current average loss: 0.42337846796662065\n",
      "Current average loss: 0.42134357021359814\n",
      "Current average loss: 0.4192894102280814\n",
      "Current average loss: 0.41729965463965735\n",
      "Current average loss: 0.41558102015339804\n",
      "Current average loss: 0.4134946557005762\n",
      "Current average loss: 0.41180252694020886\n",
      "Current average loss: 0.4101646173713965\n",
      "Current average loss: 0.40851212263263975\n",
      "Current average loss: 0.40673362404266167\n",
      "Training loss epoch: 0.4064436194984545\n",
      "Training accuracy : 0.8873093562059342\n"
     ]
    }
   ],
   "source": [
    "train()"
   ]
  },
  {
   "cell_type": "markdown",
   "id": "f8507d02",
   "metadata": {},
   "source": [
    "In my experiments, I found that two epochs are needed for good performance. "
   ]
  },
  {
   "cell_type": "code",
   "execution_count": 479,
   "id": "0070c530",
   "metadata": {},
   "outputs": [
    {
     "name": "stdout",
     "output_type": "stream",
     "text": [
      "Current average loss: 0.12781822681427002\n",
      "Current average loss: 0.2029448686407344\n",
      "Current average loss: 0.20881534375213273\n",
      "Current average loss: 0.21610954948437966\n",
      "Current average loss: 0.21297501610067124\n",
      "Current average loss: 0.21108067137544265\n",
      "Current average loss: 0.20925477927491787\n",
      "Current average loss: 0.20959725081601768\n",
      "Current average loss: 0.21055817556161707\n",
      "Current average loss: 0.21027279801906545\n",
      "Current average loss: 0.21071981186499367\n",
      "Current average loss: 0.20993831497934273\n",
      "Current average loss: 0.2112272777140984\n",
      "Current average loss: 0.21083716073751357\n",
      "Current average loss: 0.20959275844457062\n",
      "Current average loss: 0.20997436514880005\n",
      "Current average loss: 0.20933877498953882\n",
      "Current average loss: 0.2097782307402447\n",
      "Current average loss: 0.20907362910822191\n",
      "Current average loss: 0.20896443335838158\n",
      "Current average loss: 0.20887097199519594\n",
      "Current average loss: 0.20871443501977283\n",
      "Current average loss: 0.2084377192008203\n",
      "Current average loss: 0.20911628215604894\n",
      "Current average loss: 0.2086687290646145\n",
      "Current average loss: 0.20853854800130978\n",
      "Current average loss: 0.20828216541264893\n",
      "Current average loss: 0.2085600422460121\n",
      "Current average loss: 0.20839361470858994\n",
      "Current average loss: 0.20838795164943522\n",
      "Current average loss: 0.20828404456317445\n",
      "Current average loss: 0.20770244868228951\n",
      "Current average loss: 0.2073045972954646\n",
      "Current average loss: 0.20707569449972976\n",
      "Current average loss: 0.2069069865408609\n",
      "Current average loss: 0.20653861810572147\n",
      "Current average loss: 0.20619436893565593\n",
      "Current average loss: 0.20593476177300676\n",
      "Current average loss: 0.2063200400102863\n",
      "Current average loss: 0.20565466882058883\n",
      "Current average loss: 0.20529219809192414\n",
      "Current average loss: 0.20513238524666097\n",
      "Current average loss: 0.20489835227030256\n",
      "Current average loss: 0.20472959283599879\n",
      "Current average loss: 0.2046263670877648\n",
      "Current average loss: 0.20419934268240478\n",
      "Current average loss: 0.20414455059872869\n",
      "Current average loss: 0.20415464264472047\n",
      "Current average loss: 0.20418360472653488\n",
      "Current average loss: 0.20400848361353585\n",
      "Current average loss: 0.20367469357904303\n",
      "Current average loss: 0.2035087997923059\n",
      "Current average loss: 0.2033864677946537\n",
      "Current average loss: 0.20324037061015787\n",
      "Current average loss: 0.20311426027500173\n",
      "Current average loss: 0.20303418233968998\n",
      "Current average loss: 0.20296340017654155\n",
      "Current average loss: 0.2026738978960267\n",
      "Current average loss: 0.2023727162693764\n",
      "Current average loss: 0.2021620741786037\n",
      "Current average loss: 0.2017737545471572\n",
      "Current average loss: 0.20171015184092397\n",
      "Current average loss: 0.20177863152759862\n",
      "Current average loss: 0.2016743997753688\n",
      "Current average loss: 0.20155803593441\n",
      "Current average loss: 0.20146092577709765\n",
      "Current average loss: 0.20121408962226875\n",
      "Current average loss: 0.20095004872712888\n",
      "Current average loss: 0.20085153405328232\n",
      "Current average loss: 0.20059846846016743\n",
      "Current average loss: 0.20050499818015483\n",
      "Current average loss: 0.20021630314106237\n",
      "Current average loss: 0.20005458312872432\n",
      "Current average loss: 0.19975346673385622\n",
      "Current average loss: 0.19958987245365117\n",
      "Current average loss: 0.19947076242612277\n",
      "Current average loss: 0.19921480639622158\n",
      "Current average loss: 0.19896196690844556\n",
      "Current average loss: 0.19880654055798547\n",
      "Current average loss: 0.1986277350478573\n",
      "Current average loss: 0.19846561338732488\n",
      "Current average loss: 0.19839665312961494\n",
      "Current average loss: 0.19821642789707622\n",
      "Current average loss: 0.1980211682493802\n",
      "Current average loss: 0.19774458290552996\n",
      "Current average loss: 0.19757556938815504\n",
      "Current average loss: 0.19739655412212942\n",
      "Current average loss: 0.19718760843352878\n",
      "Current average loss: 0.19717012148880847\n",
      "Current average loss: 0.19715279934714583\n",
      "Current average loss: 0.19707891615864012\n",
      "Current average loss: 0.19699593788794065\n",
      "Current average loss: 0.19688935599327995\n",
      "Current average loss: 0.19674919656956597\n",
      "Current average loss: 0.19672425034521437\n",
      "Current average loss: 0.19664770811278623\n",
      "Current average loss: 0.19648923313792466\n",
      "Current average loss: 0.19632032617800643\n",
      "Current average loss: 0.19615533410227246\n",
      "Training loss epoch: 0.19615905894542157\n",
      "Training accuracy : 0.9392180053998246\n"
     ]
    }
   ],
   "source": [
    "train() "
   ]
  },
  {
   "cell_type": "markdown",
   "id": "4005af14",
   "metadata": {},
   "source": [
    "I ended up with a training loss of about 0.19 and a training accuracy of 0.94. Specific values may differ. \n",
    "\n",
    "At this point, it's a good idea to save the model (or rather the parameter dictionary) so you can continue evaluating the model without having to retrain. "
   ]
  },
  {
   "cell_type": "code",
   "execution_count": 480,
   "id": "542403f2",
   "metadata": {},
   "outputs": [],
   "source": [
    "# torch.save(model.state_dict(), \"srl_model_fulltrain_2epoch_finetune_1e-05.pt\")\n",
    "torch.save(model.state_dict(), \"srl_model_full_train.pt\")"
   ]
  },
  {
   "cell_type": "markdown",
   "id": "01dc1647",
   "metadata": {},
   "source": [
    "## 4. Decoding"
   ]
  },
  {
   "cell_type": "code",
   "execution_count": 483,
   "id": "44d7b2cc",
   "metadata": {},
   "outputs": [
    {
     "name": "stderr",
     "output_type": "stream",
     "text": [
      "Some weights of the model checkpoint at bert-base-uncased were not used when initializing BertModel: ['cls.predictions.transform.dense.weight', 'cls.predictions.transform.LayerNorm.bias', 'cls.predictions.transform.LayerNorm.weight', 'cls.predictions.transform.dense.bias', 'cls.seq_relationship.bias', 'cls.seq_relationship.weight', 'cls.predictions.bias']\n",
      "- This IS expected if you are initializing BertModel from the checkpoint of a model trained on another task or with another architecture (e.g. initializing a BertForSequenceClassification model from a BertForPreTraining model).\n",
      "- This IS NOT expected if you are initializing BertModel from the checkpoint of a model that you expect to be exactly identical (initializing a BertForSequenceClassification model from a BertForSequenceClassification model).\n"
     ]
    }
   ],
   "source": [
    "# Optional step: If you stopped working after part 3, first load the trained model \n",
    "\n",
    "model = SrlModel().to('cuda') \n",
    "model.load_state_dict(torch.load(\"srl_model_full_train.pt\"))\n",
    "model = model.to('cuda')"
   ]
  },
  {
   "cell_type": "markdown",
   "id": "44e07781",
   "metadata": {},
   "source": [
    "**TODO (this is the fun part)**: Now that we have a trained model, let's try labeling an unseen example sentence. Complete the functions decode_output and label_sentence below. decode_output takes the logits returned by the model, extracts the argmax to obtain the label predictions for each token, and then translate the result into a list of string labels. \n",
    "\n",
    "label_sentence takes a list of input tokens and a predicate index, prepares the model input, call the model and then call decode_output to produce a final result. \n",
    "\n",
    "Note that you have already implemented all components necessary (preparing the input data from the token list and predicate index, decoding the model output). But now you are putting it together in one convenient function. "
   ]
  },
  {
   "cell_type": "code",
   "execution_count": 484,
   "id": "b72fc567",
   "metadata": {},
   "outputs": [],
   "source": [
    "tokens = \"A U. N. team spent an hour inside the hospital , where it found evident signs of shelling and gunfire .\".split()"
   ]
  },
  {
   "cell_type": "code",
   "execution_count": 485,
   "id": "9026d718",
   "metadata": {},
   "outputs": [],
   "source": [
    "def decode_output(logits): # it will be useful to have this in a separate function later on\n",
    "    \"\"\"\n",
    "    Given the model output, return a list of string labels for each token. \n",
    "    \"\"\"\n",
    "    # Extract the predicted labels for each token\n",
    "    predicted_labels = torch.argmax(logits, dim=2)\n",
    "#     print(\"predicted_labels\")\n",
    "#     print(predicted_labels)\n",
    "    # Translate the predicted label indices into string labels\n",
    "#     labels = [id_to_role[label_id.item()] for label_id in predicted_labels[0]]\n",
    "    labels = [id_to_role.get(int(label_id), id_to_role[4])  for label_id in predicted_labels[0]]\n",
    "#     label_ids = [role_to_id.get(label, role_to_id['O']) for label in token_labels]\n",
    "\n",
    "    \n",
    "    return labels\n",
    "    "
   ]
  },
  {
   "cell_type": "code",
   "execution_count": 486,
   "id": "76f21f29",
   "metadata": {},
   "outputs": [],
   "source": [
    "def label_sentence(tokens, pred_idx):\n",
    "    \"\"\"\n",
    "    Given a list of input tokens and a predicate index, label the sentence.\n",
    "    \"\"\"\n",
    "    # complete this function to prepare token_ids, attention mask, predicate mask, then call the model. \n",
    "    # Decode the output to produce a list of labels. \n",
    "    token_ids = tokenizer.convert_tokens_to_ids(tokens)\n",
    "\n",
    "    attention_mask = [1 if token != -100 else 0 for token in token_ids]\n",
    "    pred_indicator_mask = [1 if i == pred_idx else 0 for i in range(len(tokens))]\n",
    "    token_tensor = torch.tensor([token_ids], dtype=torch.long).to(device)\n",
    "    mask_tensor = torch.tensor([attention_mask], dtype=torch.long).to(device)\n",
    "    pred_tensor = torch.tensor([pred_indicator_mask], dtype=torch.long).to(device)\n",
    "    \n",
    "    with torch.no_grad():\n",
    "        logits = model(token_tensor, mask_tensor, pred_tensor)\n",
    "    return decode_output(logits)\n",
    "        \n",
    "    "
   ]
  },
  {
   "cell_type": "code",
   "execution_count": 487,
   "id": "98431b63",
   "metadata": {},
   "outputs": [
    {
     "name": "stdout",
     "output_type": "stream",
     "text": [
      "('A', 'O')\n",
      "('U.', 'O')\n",
      "('N.', 'O')\n",
      "('team', 'O')\n",
      "('spent', 'O')\n",
      "('an', 'O')\n",
      "('hour', 'O')\n",
      "('inside', 'O')\n",
      "('the', 'O')\n",
      "('hospital', 'O')\n",
      "(',', 'O')\n",
      "('where', 'O')\n",
      "('it', 'O')\n",
      "('found', 'O')\n",
      "('evident', 'O')\n",
      "('signs', 'O')\n",
      "('of', 'O')\n",
      "('shelling', 'O')\n",
      "('and', 'O')\n",
      "('gunfire', 'O')\n",
      "('.', 'O')\n"
     ]
    }
   ],
   "source": [
    "# Now you should be able to run\n",
    "\n",
    "label_test = label_sentence(tokens, 13) # Predicate is \"found\"\n",
    "zip(tokens, label_test)\n",
    "# Assuming tokens is a list of tokens and label_test is a list of corresponding labels\n",
    "for token, label in zip(tokens, label_test):\n",
    "    print((token, label))\n"
   ]
  },
  {
   "cell_type": "markdown",
   "id": "1d6c710b",
   "metadata": {},
   "source": [
    "The expected output is somethign like this: \n",
    "```   \n",
    " ('A', 'O'),\n",
    " ('U.', 'O'),\n",
    " ('N.', 'O'),\n",
    " ('team', 'O'),\n",
    " ('spent', 'O'),\n",
    " ('an', 'O'),\n",
    " ('hour', 'O'),\n",
    " ('inside', 'O'),\n",
    " ('the', 'B-ARGM-LOC'),\n",
    " ('hospital', 'I-ARGM-LOC'),\n",
    " (',', 'O'),\n",
    " ('where', 'B-ARGM-LOC'),\n",
    " ('it', 'B-ARG0'),\n",
    " ('found', 'B-V'),\n",
    " ('evident', 'B-ARG1'),\n",
    " ('signs', 'I-ARG1'),\n",
    " ('of', 'I-ARG1'),\n",
    " ('shelling', 'I-ARG1'),\n",
    " ('and', 'I-ARG1'),\n",
    " ('gunfire', 'I-ARG1'),\n",
    " ('.', 'O'),\n",
    "```\n"
   ]
  },
  {
   "cell_type": "markdown",
   "id": "b6c0237e",
   "metadata": {},
   "source": [
    "### 5. Evaluation 1: Token-Based Accuracy\n",
    "We want to evaluate the model on the dev or test set. "
   ]
  },
  {
   "cell_type": "code",
   "execution_count": 488,
   "id": "cd41c1f6",
   "metadata": {},
   "outputs": [],
   "source": [
    "# Open the input file\n",
    "with open('propbank_dev.tsv', 'r') as input_file:\n",
    "    # Read the first 10 lines\n",
    "    lines = input_file.readlines()[:1600]\n",
    "\n",
    "# Open the output file\n",
    "with open('output_dev.tsv', 'w') as output_file:\n",
    "    # Write the lines to the output file\n",
    "    output_file.writelines(lines)"
   ]
  },
  {
   "cell_type": "code",
   "execution_count": 489,
   "id": "cc7aa897",
   "metadata": {},
   "outputs": [],
   "source": [
    "dev_data = SrlData(\"output_dev.tsv\") # Takes a while because we preprocess all data offline"
   ]
  },
  {
   "cell_type": "code",
   "execution_count": 490,
   "id": "dd62569e",
   "metadata": {},
   "outputs": [],
   "source": [
    "from torch.utils.data import DataLoader\n",
    "loader = DataLoader(dev_data, batch_size = 1, shuffle = False)"
   ]
  },
  {
   "cell_type": "code",
   "execution_count": 491,
   "id": "4bcb3a78",
   "metadata": {},
   "outputs": [],
   "source": [
    "# # Optional: Load the model again if you stopped working prior to this step. \n",
    "# model = SrlModel()\n",
    "# model.load_state_dict(torch.load(\"srl_model_8000_train.pt\"))\n",
    "# model = mode.to('cuda')"
   ]
  },
  {
   "cell_type": "markdown",
   "id": "cc8ababd",
   "metadata": {},
   "source": [
    "**TODO**: Complete the evaluate_token_accuracy function below. The function should iterate through the items in the data loader (see training loop in part 3). Run the model on each sentence/predicate pair and extract the predictions.\n",
    "\n",
    "For each sentence, count the correct predictions and the total predictions. Finally, compute the accuracy as #correct_predictions / #total_predictions\n",
    "\n",
    "Careful: You need to filter out the padded positions ([PAD] target tokens), as well as [CLS] and [SEP]. It's okay to include [B-V] in the count though. "
   ]
  },
  {
   "cell_type": "code",
   "execution_count": 494,
   "id": "fa091465",
   "metadata": {},
   "outputs": [],
   "source": [
    "def evaluate_token_accuracy(model, loader):\n",
    "    \n",
    "    model.eval() # put model in evaluation mode\n",
    "    \n",
    "    # for the accuracy \n",
    "    tr_loss = 0 \n",
    "    nb_tr_examples, nb_tr_steps = 0, 0\n",
    "    tr_preds, tr_labels = [], []\n",
    "    tr_correct = 0\n",
    "    total_tokens = 0\n",
    "    \n",
    "    # iterate over the data here. \n",
    "    for idx, batch in enumerate(loader):\n",
    "        \n",
    "        # Get the encoded data for this batch and push it to the GPU\n",
    "        ids = batch['ids'].squeeze(1).to(device, dtype=torch.long)\n",
    "        mask = batch['mask'].squeeze(1).to(device, dtype=torch.long)\n",
    "        pred_mask = batch['pred'].squeeze(1).to(device, dtype=torch.long)\n",
    "        targets = batch['targets'].squeeze(1).to(device, dtype=torch.long)\n",
    "        \n",
    "        # Run the forward pass of the model\n",
    "        logits = model(input_ids=ids, attn_mask=mask, pred_indicator=pred_mask)        \n",
    "        loss = loss_function(logits.transpose(2,1), targets) \n",
    "        # Compute accuracy for this batch\n",
    "#         print(torch.argmax(logits,dim=2))\n",
    "        matching = torch.sum(torch.argmax(logits,dim=2) == targets)       \n",
    "        predictions = torch.sum(torch.where(targets==-100,0,1))\n",
    "        tr_correct += matching.item()\n",
    "        total_tokens += predictions.item()\n",
    "        \n",
    "        optimizer.zero_grad()\n",
    "        loss.backward()\n",
    "        optimizer.step()\n",
    "    epoch_accuracy = tr_correct/total_tokens\n",
    "    print(f\"accuracy : {epoch_accuracy}\")\n",
    "\n",
    "#     acc = total_correct / total_predictions\n",
    "#     print(f\"Accuracy: {acc}\")\n",
    "    "
   ]
  },
  {
   "cell_type": "code",
   "execution_count": 495,
   "id": "66a2bc9f",
   "metadata": {},
   "outputs": [
    {
     "name": "stdout",
     "output_type": "stream",
     "text": [
      "accuracy : 0.9287232965475347\n"
     ]
    }
   ],
   "source": [
    "evaluate_token_accuracy(model, loader)"
   ]
  },
  {
   "cell_type": "markdown",
   "id": "9fb27239",
   "metadata": {},
   "source": [
    "### 6. Span-Based evaluation \n",
    "\n",
    "While the accuracy score in part 5 is encouraging, an accuracy-based evaluation is problematic for two reasons. First, most of the target labels are actually O. Second, it only tells us that per-token prediction works, but does not directly evaluate the SRL performance. \n",
    "\n",
    "Instead, SRL systems are typically evaluated on micro-averaged precision, recall, and F1-score for predicting labeled spans. \n",
    "\n",
    "More specifically, for each sentence/predicate input, we run the model, decode the output, and extract a set of labeled spans (from the output and the target labels). These spans are (i,j,label) tuples.  \n",
    "\n",
    "We then compute the true_positives, false_positives, and false_negatives based on these spans. \n",
    "\n",
    "In the end, we can compute \n",
    "\n",
    "* Precision:  true_positive / (true_positives + false_positives)  , that is the number of correct spans out of all predicted spans. \n",
    "\n",
    "* Recall: true_positives / (true_positives + false_negatives) , that is the number of correct spans out of all target spans. \n",
    "\n",
    "* F1-score:   (2 * precision * recall) / (precision + recall)\n",
    "\n",
    "\n",
    "For example, consider \n",
    "\n",
    "| |[CLS]|The|judge|scheduled|to|preside|over|his|trial|was|removed|from|the|case|today|.|             \n",
    "|--||---|-----|---------|--|-------|----|---|-----|---|-------|----|---|----|-----|-|             \n",
    "||0|1|2|3|4|5|6|7|8|9|1O|11|12|13|14|15|\n",
    "|target|[CLS]|B-ARG1|I-ARG1|B-V|B-ARG2|I-ARG2|I-ARG2|I-ARG2|I-ARG2|O|O|O|O|O|O|O|\n",
    "|prediction|[CLS]|B-ARG1|I-ARG1|B-V|I-ARG2|I-ARG2|O|O|O|O|O|O|O|O|B-ARGM-TMP|O|\n",
    "\n",
    "The target spans are (1,2,\"ARG1\"), and (4,8,\"ARG2\").\n",
    "\n",
    "The predicted spans would be (1,2,\"ARG1\"), (14,14,\"ARGM-TMP\"). Note that in the prediction, there is no proper ARG2 span because we are missing the B-ARG2 token, so this span should not be created. \n",
    "\n",
    "So for this sentence we woudl get: true_positives: 1 false_positives: 1 false_negatives: 1\n",
    "\n",
    "*TODO*: Complete the function evaluate_spans that performs the span-based evaluation on the given model and data loader. You can use the provided extract_spans function, which returns the spans as a dictionary. For example\n",
    "{(1,2): \"ARG1\", (4,8):\"ARG2\"} "
   ]
  },
  {
   "cell_type": "code",
   "execution_count": 496,
   "id": "379cfe6a",
   "metadata": {},
   "outputs": [],
   "source": [
    "def extract_spans(labels):\n",
    "    spans = {} # map (start,end) ids to label\n",
    "    current_span_start = 0\n",
    "    current_span_type = \"\"\n",
    "    inside = False\n",
    "    for i, label in enumerate(labels):\n",
    "        if label.startswith(\"B\"):            \n",
    "            if inside: \n",
    "                if current_span_type != \"V\":\n",
    "                    spans[(current_span_start,i)] = current_span_type            \n",
    "            current_span_start = i\n",
    "            current_span_type = label[2:]\n",
    "            inside = True\n",
    "        elif inside and label.startswith(\"O\"):\n",
    "            if current_span_type != \"V\":\n",
    "                spans[(current_span_start,i)] = current_span_type\n",
    "            inside = False\n",
    "        elif inside and label.startswith(\"I\") and label[2:] != current_span_type:            \n",
    "            if current_span_type != \"V\":\n",
    "                spans[(current_span_start,i)] = current_span_type\n",
    "            inside = False\n",
    "    return spans\n",
    "                        "
   ]
  },
  {
   "cell_type": "code",
   "execution_count": 497,
   "id": "1a5486ca",
   "metadata": {},
   "outputs": [
    {
     "name": "stdout",
     "output_type": "stream",
     "text": [
      "Overall P: 0.15443548387096775  Overall R: 0.8855491329479769  Overall F1: 0.26300429184549357\n"
     ]
    }
   ],
   "source": [
    "def evaluate_spans(model, loader):\n",
    "    \n",
    "    total_tp = 0\n",
    "    total_fp = 0\n",
    "    total_fn = 0\n",
    "        \n",
    "    for idx, batch in enumerate(loader):\n",
    "        # Get the encoded data for this batch and push it to the GPU\n",
    "        ids = batch['ids'].squeeze(1).to(device, dtype=torch.long)\n",
    "        mask = batch['mask'].squeeze(1).to(device, dtype=torch.long)\n",
    "        pred_mask = batch['pred'].squeeze(1).to(device, dtype=torch.long)\n",
    "        targets = batch['targets'].squeeze(1).to(device, dtype=torch.long)\n",
    "        \n",
    "        # Run the forward pass of the model\n",
    "        logits = model(input_ids=ids, attn_mask=mask, pred_indicator=pred_mask)\n",
    "        predictions = torch.argmax(logits, dim=2)\n",
    "        predicted_labels = [id_to_role.get(int(idx), id_to_role[4])for idx in predictions.squeeze()]\n",
    "        target_labels = [id_to_role.get(int(idx), id_to_role[4])for idx in targets.squeeze()]\n",
    "        \n",
    "        # Decode spans from predictions and targets\n",
    "        pred_spans = extract_spans(predicted_labels)\n",
    "        target_spans = extract_spans(target_labels)\n",
    "            # Calculate true positives, false positives, and false negatives\n",
    "        for span in pred_spans:\n",
    "            if span in target_spans:\n",
    "                total_tp += 1\n",
    "            else:\n",
    "                total_fp += 1\n",
    "        for span in target_spans:\n",
    "            if span not in pred_spans:\n",
    "                total_fn += 1\n",
    "                    \n",
    "    total_p = total_tp / (total_tp + total_fp)\n",
    "    total_r = total_tp / (total_tp + total_fn)\n",
    "    total_f = (2 * total_p * total_r) / (total_p + total_r)\n",
    "            \n",
    "    print(f\"Overall P: {total_p}  Overall R: {total_r}  Overall F1: {total_f}\")\n",
    "\n",
    "# Call the function\n",
    "evaluate_spans(model, loader)"
   ]
  },
  {
   "cell_type": "markdown",
   "id": "c0e35d04",
   "metadata": {},
   "source": [
    "In my evaluation, I got an F score of 0.82  (which slightly below the state-of-the art in 2018)"
   ]
  },
  {
   "cell_type": "markdown",
   "id": "bd94c3a2",
   "metadata": {},
   "source": [
    "### OPTIONAL: \n",
    "\n",
    "Repeat the span-based evaluation, but print out precision/recall/f1-score for each role separately."
   ]
  }
 ],
 "metadata": {
  "kernelspec": {
   "display_name": "Python 3",
   "language": "python",
   "name": "python3"
  },
  "language_info": {
   "codemirror_mode": {
    "name": "ipython",
    "version": 3
   },
   "file_extension": ".py",
   "mimetype": "text/x-python",
   "name": "python",
   "nbconvert_exporter": "python",
   "pygments_lexer": "ipython3",
   "version": "3.7.12"
  }
 },
 "nbformat": 4,
 "nbformat_minor": 5
}
